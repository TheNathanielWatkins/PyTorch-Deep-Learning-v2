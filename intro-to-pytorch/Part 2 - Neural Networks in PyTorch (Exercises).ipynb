{
 "cells": [
  {
   "cell_type": "markdown",
   "metadata": {},
   "source": [
    "# Neural networks with PyTorch\n",
    "\n",
    "Deep learning networks tend to be massive with dozens or hundreds of layers, that's where the term \"deep\" comes from. You can build one of these deep networks using only weight matrices as we did in the previous notebook, but in general it's very cumbersome and difficult to implement. PyTorch has a nice module `nn` that provides a nice way to efficiently build large neural networks."
   ]
  },
  {
   "cell_type": "code",
   "execution_count": 1,
   "metadata": {},
   "outputs": [],
   "source": [
    "# Import necessary packages\n",
    "\n",
    "%matplotlib inline\n",
    "%config InlineBackend.figure_format = 'retina'\n",
    "\n",
    "import numpy as np\n",
    "import torch\n",
    "\n",
    "import helper\n",
    "\n",
    "import matplotlib.pyplot as plt"
   ]
  },
  {
   "cell_type": "markdown",
   "metadata": {},
   "source": [
    "\n",
    "Now we're going to build a larger network that can solve a (formerly) difficult problem, identifying text in an image. Here we'll use the MNIST dataset which consists of greyscale handwritten digits. Each image is 28x28 pixels, you can see a sample below\n",
    "\n",
    "<img src='assets/mnist.png'>\n",
    "\n",
    "Our goal is to build a neural network that can take one of these images and predict the digit in the image.\n",
    "\n",
    "First up, we need to get our dataset. This is provided through the `torchvision` package. The code below will download the MNIST dataset, then create training and test datasets for us. Don't worry too much about the details here, you'll learn more about this later."
   ]
  },
  {
   "cell_type": "code",
   "execution_count": 2,
   "metadata": {},
   "outputs": [],
   "source": [
    "### Run this cell\n",
    "\n",
    "from torchvision import datasets, transforms\n",
    "\n",
    "# Define a transform to normalize the data\n",
    "transform = transforms.Compose([transforms.ToTensor(),\n",
    "                              transforms.Normalize((0.5, 0.5, 0.5), (0.5, 0.5, 0.5)),\n",
    "                              ])\n",
    "\n",
    "# Download and load the training data\n",
    "trainset = datasets.MNIST('MNIST_data/', download=True, train=True, transform=transform)\n",
    "trainloader = torch.utils.data.DataLoader(trainset, batch_size=64, shuffle=True)"
   ]
  },
  {
   "cell_type": "markdown",
   "metadata": {},
   "source": [
    "We have the training data loaded into `trainloader` and we make that an iterator with `iter(trainloader)`. Later, we'll use this to loop through the dataset for training, like\n",
    "\n",
    "```python\n",
    "for image, label in trainloader:\n",
    "    ## do things with images and labels\n",
    "```\n",
    "\n",
    "You'll notice I created the `trainloader` with a batch size of 64, and `shuffle=True`. The batch size is the number of images we get in one iteration from the data loader and pass through our network, often called a *batch*. And `shuffle=True` tells it to shuffle the dataset every time we start going through the data loader again. But here I'm just grabbing the first batch so we can check out the data. We can see below that `images` is just a tensor with size `(64, 1, 28, 28)`. So, 64 images per batch, 1 color channel, and 28x28 images."
   ]
  },
  {
   "cell_type": "code",
   "execution_count": 3,
   "metadata": {},
   "outputs": [
    {
     "name": "stdout",
     "output_type": "stream",
     "text": [
      "<class 'torch.Tensor'>\n",
      "torch.Size([64, 1, 28, 28])\n",
      "torch.Size([64])\n"
     ]
    }
   ],
   "source": [
    "dataiter = iter(trainloader)\n",
    "images, labels = dataiter.next()\n",
    "print(type(images))\n",
    "print(images.shape)\n",
    "print(labels.shape)"
   ]
  },
  {
   "cell_type": "markdown",
   "metadata": {},
   "source": [
    "This is what one of the images looks like. "
   ]
  },
  {
   "cell_type": "code",
   "execution_count": 4,
   "metadata": {},
   "outputs": [
    {
     "data": {
      "image/png": "[encoded data removed]",
      "text/plain": [
       "<Figure size 432x288 with 1 Axes>"
      ]
     },
     "metadata": {
      "image/png": {
       "height": 250,
       "width": 253
      }
     },
     "output_type": "display_data"
    }
   ],
   "source": [
    "plt.imshow(images[1].numpy().squeeze(), cmap='Greys_r');"
   ]
  },
  {
   "cell_type": "markdown",
   "metadata": {},
   "source": [
    "First, let's try to build a simple network for this dataset using weight matrices and matrix multiplications. Then, we'll see how to do it using PyTorch's `nn` module which provides a much more convenient and powerful method for defining network architectures.\n",
    "\n",
    "The networks you've seen so far are called *fully-connected* or *dense* networks. Each unit in one layer is connected to each unit in the next layer. In fully-connected networks, the input to each layer must be a one-dimensional vector (which can be stacked into a 2D tensor as a batch of multiple examples). However, our images are 28x28 2D tensors, so we need to convert them into 1D vectors. Thinking about sizes, we need to convert the batch of images with shape `(64, 1, 28, 28)` to a have a shape of `(64, 784)`, 784 is 28 times 28. This is typically called *flattening*, we flattened the 2D images into 1D vectors.\n",
    "\n",
    "Previously you built a network with one output unit. Here we need 10 output units, one for each digit. We want our network to predict the digit shown in an image, so what we'll do is calculate probabilities that the image is of any one digit or class. This ends up being a discrete probability distribution over the classes (digits) that tells us the most likely class for the image. That means we need 10 output units for the 10 classes (digits). We'll see how to convert the network output into a probability distribution next.\n",
    "\n",
    "> **Exercise:** Flatten the batch of images `images`. Then build a multi-layer network with 784 input units, 256 hidden units, and 10 output units using random tensors for the weights and biases. For now, use a sigmoid activation for the hidden layer. Leave the output layer without an activation, we'll add one that gives us a probability distribution next."
   ]
  },
  {
   "cell_type": "code",
   "execution_count": 5,
   "metadata": {},
   "outputs": [],
   "source": [
    "def sigmoid_activation(x):\n",
    "    \"\"\" Sigmoid activation function \n",
    "    \n",
    "        Arguments\n",
    "        ---------\n",
    "        x: torch.Tensor\n",
    "    \"\"\"\n",
    "    return 1/(1+torch.exp(-x))"
   ]
  },
  {
   "cell_type": "code",
   "execution_count": 6,
   "metadata": {},
   "outputs": [
    {
     "data": {
      "text/plain": [
       "tensor([[-1., -1., -1.,  ..., -1., -1., -1.],\n",
       "        [-1., -1., -1.,  ..., -1., -1., -1.],\n",
       "        [-1., -1., -1.,  ..., -1., -1., -1.],\n",
       "        ...,\n",
       "        [-1., -1., -1.,  ..., -1., -1., -1.],\n",
       "        [-1., -1., -1.,  ..., -1., -1., -1.],\n",
       "        [-1., -1., -1.,  ..., -1., -1., -1.]])"
      ]
     },
     "execution_count": 6,
     "metadata": {},
     "output_type": "execute_result"
    }
   ],
   "source": [
    "images.view(64, 784)"
   ]
  },
  {
   "cell_type": "code",
   "execution_count": 7,
   "metadata": {},
   "outputs": [],
   "source": [
    "### Generate some data\n",
    "torch.manual_seed(7) # Set the random seed so things are predictable\n",
    "\n",
    "# Features are 3 random normal variables\n",
    "features = images.view(images.shape[0], -1)\n",
    "\n",
    "# Define the size of each layer in our network\n",
    "n_input = features.shape[1]     # Number of input units, must match number of input features\n",
    "n_hidden = 256                    # Number of hidden units \n",
    "n_output = 10                    # Number of output units\n",
    "\n",
    "# Weights for inputs to hidden layer\n",
    "W1 = torch.randn(n_input, n_hidden)\n",
    "# Weights for hidden layer to output layer\n",
    "W2 = torch.randn(n_hidden, n_output)\n",
    "\n",
    "# and bias terms for hidden and output layers\n",
    "B1 = torch.randn((1, n_hidden))\n",
    "B2 = torch.randn((1, n_output))"
   ]
  },
  {
   "cell_type": "code",
   "execution_count": 8,
   "metadata": {},
   "outputs": [],
   "source": [
    "def sigmoid_output(Features, Weights, Biases):\n",
    "    \n",
    "    # This only works on 1 or 2 dimensional Tensors\n",
    "    if Features.shape == Weights.shape:\n",
    "        print(\"Reshaped Weights\")\n",
    "        return sigmoid_activation(torch.mm(Features, Weights.view(Weights.shape[1], Weights.shape[0])) + Biases)\n",
    "    \n",
    "    else:\n",
    "        return sigmoid_activation(torch.mm(Features, Weights) + Biases)\n",
    "    \n",
    "    print(\"There seems to be a shape mismatch between features and weights\")"
   ]
  },
  {
   "cell_type": "code",
   "execution_count": 9,
   "metadata": {},
   "outputs": [
    {
     "name": "stdout",
     "output_type": "stream",
     "text": [
      "tensor([[1.9676e-02, 1.0000e+00, 8.4811e-11,  ..., 7.5517e-10, 1.1847e-10,\n",
      "         6.8683e-01],\n",
      "        [1.0000e+00, 7.8633e-01, 1.4405e-01,  ..., 1.0736e-25, 9.0806e-09,\n",
      "         2.2611e-07],\n",
      "        [5.4299e-06, 4.4144e-01, 1.0000e+00,  ..., 7.1671e-15, 4.2909e-12,\n",
      "         1.8612e-05],\n",
      "        ...,\n",
      "        [1.0000e+00, 9.7529e-01, 2.9828e-05,  ..., 7.5965e-14, 1.3329e-11,\n",
      "         1.1807e-14],\n",
      "        [6.5124e-01, 1.0000e+00, 8.0872e-08,  ..., 1.3624e-08, 6.5267e-24,\n",
      "         4.9692e-02],\n",
      "        [3.5967e-16, 9.8271e-01, 9.9544e-01,  ..., 1.1730e-09, 9.9900e-01,\n",
      "         1.1444e-18]])\n"
     ]
    }
   ],
   "source": [
    "multilayer_output1 = sigmoid_output(features, W1, B1)\n",
    "print(multilayer_output1)"
   ]
  },
  {
   "cell_type": "code",
   "execution_count": 10,
   "metadata": {
    "scrolled": true
   },
   "outputs": [
    {
     "name": "stdout",
     "output_type": "stream",
     "text": [
      "tensor([[-1.2838e+01, -5.8852e+00,  1.1531e+00, -9.9192e+00,  6.0736e+00,\n",
      "          6.7631e+00, -5.3018e+00,  3.4768e+00, -1.1729e+01, -5.0805e+00],\n",
      "        [-1.7085e+01, -7.8166e+00, -2.7372e+00, -7.4773e+00,  5.0061e+00,\n",
      "         -1.0721e+00, -1.3749e+00, -4.4074e+00, -5.9880e+00, -7.0966e+00],\n",
      "        [-1.4822e+01, -1.2776e+01,  3.8677e+00, -5.5269e+00,  9.1647e+00,\n",
      "          2.6523e+00, -7.4753e+00,  3.6620e+00, -1.2532e+01, -8.9951e+00],\n",
      "        [-1.0017e+01, -5.9808e+00, -7.7507e-01,  1.6214e+00,  1.0239e+01,\n",
      "          1.6466e+00, -6.2010e+00, -5.9730e+00, -1.3446e+01, -4.0483e+00],\n",
      "        [-1.4685e+01, -7.1184e+00, -5.6835e+00, -5.6228e+00,  1.4888e+01,\n",
      "          6.5554e+00, -1.4916e+01,  4.5022e+00, -1.1586e+01, -3.0358e+00],\n",
      "        [-7.2072e+00, -8.8575e+00, -7.7675e+00, -1.0160e+01,  1.1966e+01,\n",
      "          2.7309e+00,  2.5990e+00,  5.6254e+00, -1.3790e+01, -2.0941e+00],\n",
      "        [-1.7882e+01, -7.3289e+00, -5.6758e-01, -4.8089e+00,  1.3199e+01,\n",
      "          9.1112e+00, -1.0350e+01,  3.9119e-01, -3.3964e+00, -1.2717e+01],\n",
      "        [-1.6252e+01, -2.3148e+00,  4.3354e+00, -1.3112e-01,  3.7977e+00,\n",
      "          7.1923e+00, -2.9541e+00, -2.9640e+00, -1.2590e+01, -1.1117e+01],\n",
      "        [-1.3713e+01, -6.4011e+00,  7.6178e+00, -9.0317e+00,  6.1973e+00,\n",
      "          7.2137e+00, -6.5835e+00,  4.1384e+00, -3.6728e+00, -8.3748e+00],\n",
      "        [-1.3963e+01, -2.1372e-01,  2.9390e+00, -6.9054e+00,  1.8081e+01,\n",
      "          2.6389e+00,  2.6108e+00, -1.5722e+00, -1.4593e+01, -6.8556e+00],\n",
      "        [-1.2725e+01, -1.2658e+01, -7.4648e+00, -1.8095e+00,  8.5807e+00,\n",
      "          3.8752e+00, -1.0702e+01, -2.2126e+00, -1.0365e+01,  1.1286e+00],\n",
      "        [-1.0661e+01, -6.2420e+00,  1.3077e-01, -1.2005e+01,  9.5393e+00,\n",
      "          8.1607e-02, -5.2020e+00, -1.5678e-02, -1.2889e+01, -1.0979e+00],\n",
      "        [-1.2595e+01, -9.7944e+00, -6.1224e+00, -1.8392e+01,  2.7990e+00,\n",
      "          5.5967e+00,  8.4912e+00, -3.2440e+00, -4.6981e+00, -3.9482e+00],\n",
      "        [-9.1945e+00, -1.2616e+01, -1.1087e+01, -1.6622e+01,  6.7423e+00,\n",
      "          5.3074e+00, -1.4698e+00,  4.6070e+00, -1.2757e+01, -4.3055e+00],\n",
      "        [-1.6520e+00,  1.5096e+00, -7.0378e-02, -6.3745e+00,  6.9216e+00,\n",
      "          8.3125e+00, -1.5949e+00,  6.0931e+00, -1.4624e+01,  2.1872e+00],\n",
      "        [-1.3972e+01, -1.3984e-01,  1.6769e+00,  4.3187e+00,  6.8772e+00,\n",
      "          3.8746e+00, -1.5655e+01,  2.4598e+00, -1.1597e+01, -6.4010e-01],\n",
      "        [-1.1419e+01, -9.2404e+00, -3.8431e+00, -1.0470e+01, -6.9914e-02,\n",
      "          2.4367e+00, -1.0719e+01,  4.6371e+00, -7.8316e+00, -6.0907e+00],\n",
      "        [-2.0501e+01, -1.3550e+01,  2.3687e-01, -1.9716e+01,  1.3281e+01,\n",
      "          1.1389e+01,  2.5782e+00,  7.1976e+00, -1.1791e+01,  1.9323e-01],\n",
      "        [-1.2292e+01, -9.1695e+00, -3.5386e+00, -1.3383e+01, -8.1573e-01,\n",
      "          5.8069e+00, -1.0215e+01,  4.3966e+00, -1.3453e+01,  3.1996e+00],\n",
      "        [-1.2139e+01, -1.0652e+01,  6.6419e-01, -2.0024e+00,  9.4034e+00,\n",
      "          1.1212e+01,  1.4875e+00,  9.7138e+00, -9.6905e+00, -3.9144e+00],\n",
      "        [-1.4498e+01, -3.1362e+00,  6.6543e+00,  1.1317e+00,  1.2785e+01,\n",
      "          4.5529e+00, -1.1642e+01,  3.4764e+00, -1.5745e+01, -1.0444e-01],\n",
      "        [-1.6497e+01, -1.0869e+01, -1.5086e+00, -6.7611e+00,  9.2353e+00,\n",
      "          8.0142e+00, -2.9176e+00,  8.5999e+00, -1.5486e+01, -7.1325e+00],\n",
      "        [-1.6000e+01, -1.2909e+01, -3.7292e+00, -9.5332e+00, -2.8171e+00,\n",
      "          1.7632e+00,  8.9255e-01,  9.8367e+00, -1.0054e+01, -2.6335e+00],\n",
      "        [-1.1534e+01,  7.9931e+00, -3.1087e+00, -4.1682e+00, -1.6712e+00,\n",
      "          3.5095e+00, -4.9985e+00,  7.3617e+00, -1.5604e+01,  3.2349e-01],\n",
      "        [-1.8033e+01, -6.5313e+00,  4.3208e-01, -9.1786e+00,  1.2237e+01,\n",
      "          1.0144e+01, -8.5459e+00,  2.1458e+00, -1.8326e+01, -7.7066e+00],\n",
      "        [-1.1688e+01, -1.3513e+01, -6.7251e+00, -8.7945e+00,  6.5681e+00,\n",
      "          7.1904e+00,  4.6761e+00,  7.3148e+00, -2.7842e+01, -7.1270e+00],\n",
      "        [-1.0949e+01, -1.6569e+01,  2.2851e+00, -5.9622e+00,  1.1042e+01,\n",
      "          1.0199e+01,  4.9319e+00, -2.2270e+00, -1.4355e+01, -3.7987e+00],\n",
      "        [-1.7571e+01, -1.0399e+01, -1.3190e+00, -6.9691e+00,  3.4560e-01,\n",
      "          4.9914e+00, -1.0600e+01,  2.3419e+00, -1.1358e+01, -2.1402e+00],\n",
      "        [-2.0428e+01, -1.8660e+01, -5.6618e+00, -1.2683e+01,  1.1182e+01,\n",
      "          3.9868e+00, -3.1699e+00,  6.0871e+00, -1.8971e+01, -1.0596e+01],\n",
      "        [-1.4008e+01, -1.7841e+00,  8.1023e+00, -1.7397e+01,  5.6354e+00,\n",
      "          1.3654e+01, -1.1417e+01,  1.3392e+00, -8.4388e+00,  2.5596e-01],\n",
      "        [-9.1772e+00, -4.5908e+00,  1.2503e+00, -2.0250e+01,  7.6967e+00,\n",
      "          1.6376e+01, -1.1642e+01,  2.4491e+00, -1.2726e+01, -5.3998e+00],\n",
      "        [-1.4274e+01, -5.9676e+00, -3.8747e+00, -4.8929e+00,  1.2729e+01,\n",
      "          6.5985e+00, -1.1150e+01,  1.0207e+01, -1.4545e+01, -8.6164e+00],\n",
      "        [-1.6233e+01, -1.3217e+01,  6.6612e+00, -1.3376e+01,  3.6067e+00,\n",
      "          1.5738e+01, -1.4585e+00,  5.5902e+00, -1.1701e+01, -1.1546e+01],\n",
      "        [-1.4371e+01, -1.0022e+01,  4.8113e+00, -1.5579e+01,  6.3518e+00,\n",
      "          2.3554e+00, -7.0369e+00,  1.8320e+00, -1.1336e+01, -7.6952e+00],\n",
      "        [-1.3965e+01, -9.5724e+00,  4.2869e+00, -2.4506e+00,  1.1037e+01,\n",
      "          1.0173e+01, -2.4881e+00,  7.4515e+00, -8.9345e+00, -9.8262e-01],\n",
      "        [-7.3521e+00, -5.5407e+00, -2.6384e-01, -1.2704e+01,  3.2649e+00,\n",
      "         -4.3754e-01, -5.0543e+00, -1.1466e+00, -8.4891e+00, -6.3852e+00],\n",
      "        [-1.4922e+01, -1.0272e+01,  1.9641e+00, -1.1807e+01,  5.5424e+00,\n",
      "          1.0508e+01, -5.6356e+00, -2.3946e+00, -2.0295e+01,  1.3703e+00],\n",
      "        [-1.5812e+01, -1.3318e+01, -1.6884e+00,  3.5543e-01,  6.6258e+00,\n",
      "          7.7090e+00, -9.0367e+00,  5.1731e+00, -1.5805e+01,  5.7686e+00],\n",
      "        [-1.5321e+01, -5.7722e+00, -1.9815e+00, -7.9050e+00,  1.0542e+01,\n",
      "          6.5923e+00, -8.7472e+00, -4.7292e+00, -1.4936e+01,  2.1687e+00],\n",
      "        [-2.1274e+01, -1.0189e+00,  1.0184e+01, -9.9768e-01,  1.4091e+01,\n",
      "          9.3366e-01, -5.7113e+00,  4.4736e+00, -2.8599e+00,  1.2891e+00],\n",
      "        [-2.0586e+01, -6.1360e+00,  9.6912e+00, -1.2112e+01,  7.7291e+00,\n",
      "          1.6235e+01, -1.4566e+00,  1.0861e+01, -7.5516e+00, -7.9522e+00],\n",
      "        [-2.0809e+01,  1.2896e+00,  8.1231e-01, -1.0459e+01,  6.0601e+00,\n",
      "          1.0825e+00, -1.0515e+01,  2.7541e+00, -1.1573e+01, -5.7058e+00],\n",
      "        [-1.1893e+01, -4.5126e+00,  9.7053e+00, -3.8827e+00,  1.9444e+01,\n",
      "         -1.4742e+00, -1.1953e+01, -5.9851e+00, -6.0205e+00,  8.6859e-01],\n",
      "        [-1.7440e+01, -1.3349e+01,  7.2290e+00, -2.0125e+01,  2.6126e+00,\n",
      "          5.6064e+00, -5.6921e+00,  7.1214e+00, -1.3286e+01, -1.0367e+00],\n",
      "        [-1.3789e+01, -5.5782e+00,  3.7862e+00, -1.5952e+01,  8.4024e+00,\n",
      "          6.3185e+00, -8.5560e+00,  3.7391e+00, -1.3813e+00, -2.6370e+00],\n",
      "        [-1.3319e+01,  2.3430e+00,  4.2296e+00, -1.8169e+01,  5.7582e+00,\n",
      "          5.1987e+00, -2.0899e+00,  4.6682e+00, -1.6549e+01, -5.4511e+00],\n",
      "        [-1.2360e+01, -4.6909e+00, -8.5930e+00, -1.4816e+01,  1.3043e+01,\n",
      "          8.4390e+00, -1.3015e+01,  4.8935e-01, -1.2787e+01, -5.8239e+00],\n",
      "        [-1.8224e+01,  9.7088e-01,  3.4139e+00, -5.8636e+00,  1.0017e+01,\n",
      "         -3.5048e+00, -7.2332e+00,  2.1571e+00, -2.7832e+00, -1.2357e+01],\n",
      "        [-1.7210e+01, -1.0987e+01, -3.2707e+00, -1.2795e+01,  1.0216e+01,\n",
      "          1.0813e+00, -5.0302e+00,  3.1314e+00, -1.7089e+01, -6.3256e+00],\n",
      "        [-1.7155e+01, -1.7446e+01, -3.9629e+00, -1.7461e+01,  1.6199e+00,\n",
      "          1.7638e+01, -6.9884e+00,  8.3034e+00, -7.9171e+00, -3.0744e+00],\n",
      "        [-9.4985e+00, -1.1134e+00,  2.8973e+00, -1.1676e+01,  8.6680e+00,\n",
      "          4.2398e+00,  1.0941e+00,  3.2149e+00, -1.4075e+01, -5.0131e+00],\n",
      "        [-1.1547e+01, -4.7011e+00,  1.2939e+01, -9.2140e+00,  4.9631e+00,\n",
      "          4.6990e+00,  3.0589e+00, -2.0577e+00, -1.2193e+01,  3.0058e+00],\n",
      "        [-1.4119e+01, -2.6451e+00,  1.0092e+00, -4.2981e+00,  2.3302e+01,\n",
      "          6.5601e+00, -3.0841e+00,  1.2423e+01, -7.8740e+00, -1.0876e+01],\n",
      "        [-1.4380e+01, -7.1970e+00,  2.8780e+00, -9.4203e+00,  4.7083e+00,\n",
      "          5.4214e+00, -1.0617e+01,  1.7177e+00, -9.4249e+00, -1.2491e+01],\n",
      "        [-1.4731e+01,  3.5749e+00,  4.0102e+00, -6.1626e+00,  6.8971e+00,\n",
      "         -1.2587e+00, -1.3477e+01,  4.3840e+00, -1.5397e+01, -4.7160e+00],\n",
      "        [-9.7978e+00, -2.8033e+00,  1.5028e+00, -2.4181e+01,  1.0581e+01,\n",
      "          7.8335e+00, -6.2003e+00,  5.2793e+00, -1.3529e+01,  1.3451e+00],\n",
      "        [-1.9183e+01, -8.6264e+00, -4.6008e+00, -4.9751e+00,  1.0318e+01,\n",
      "          4.2632e+00, -8.9827e+00, -8.3354e-01, -1.3638e+01, -3.4151e+00],\n",
      "        [-1.0846e+01, -5.2361e+00,  1.7456e+00, -3.6603e+00,  5.2205e+00,\n",
      "          1.7313e-01, -2.7834e-01,  3.1454e+00, -1.7210e+01, -6.3812e+00],\n",
      "        [-2.0172e+01, -6.9509e+00,  7.0110e+00, -1.1073e+01,  2.4284e+00,\n",
      "         -4.8361e-01, -1.0850e+01,  7.0799e+00, -6.7897e+00,  9.6924e-01],\n",
      "        [-1.9685e+01, -1.1183e+01, -7.1742e+00, -7.2824e+00,  7.4980e+00,\n",
      "          2.5389e+00,  7.4195e-01,  9.0379e+00, -5.4662e+00, -4.2284e+00],\n",
      "        [-1.6568e+01,  2.6705e+00,  2.1400e+00, -1.0090e+01,  6.8037e+00,\n",
      "          3.9710e+00, -3.8789e+00, -4.7334e+00, -1.0819e+01,  4.0421e+00],\n",
      "        [-1.0811e+01, -6.7584e+00, -6.7909e-01, -1.1944e+01,  8.1194e+00,\n",
      "          4.4516e+00, -3.5862e+00,  9.6324e-01, -8.3726e+00, -2.0859e+00],\n",
      "        [-7.7933e+00, -9.0190e+00, -9.0866e+00, -1.4388e+01, -2.5815e+00,\n",
      "          1.0000e+01, -4.6817e+00, -1.0876e+01, -9.2974e+00,  2.0053e+00],\n",
      "        [-2.4956e+01, -1.5674e+01, -3.4981e+00, -3.7581e+00,  3.8156e+00,\n"
     ]
    },
    {
     "name": "stdout",
     "output_type": "stream",
     "text": [
      "          5.5910e+00,  1.5876e+00, -4.5241e+00, -2.0234e+01, -6.3770e-01]])\n"
     ]
    }
   ],
   "source": [
    "multilayer_output2 = torch.mm(multilayer_output1, W2) + B2\n",
    "print(multilayer_output2)"
   ]
  },
  {
   "cell_type": "code",
   "execution_count": 11,
   "metadata": {},
   "outputs": [
    {
     "data": {
      "text/plain": [
       "torch.Size([64, 10])"
      ]
     },
     "execution_count": 11,
     "metadata": {},
     "output_type": "execute_result"
    }
   ],
   "source": [
    "multilayer_output2.shape"
   ]
  },
  {
   "cell_type": "code",
   "execution_count": 12,
   "metadata": {},
   "outputs": [],
   "source": [
    "## Your solution\n",
    "# See above\n",
    "\n",
    "\n",
    "out = multilayer_output2 # output of your network, should have shape (64,10)"
   ]
  },
  {
   "cell_type": "markdown",
   "metadata": {},
   "source": [
    "Now we have 10 outputs for our network. We want to pass in an image to our network and get out a probability distribution over the classes that tells us the likely class(es) the image belongs to. Something that looks like this:\n",
    "<img src='assets/image_distribution.png' width=500px>\n",
    "\n",
    "Here we see that the probability for each class is roughly the same. This is representing an untrained network, it hasn't seen any data yet so it just returns a uniform distribution with equal probabilities for each class.\n",
    "\n",
    "To calculate this probability distribution, we often use the [**softmax** function](https://en.wikipedia.org/wiki/Softmax_function). Mathematically this looks like\n",
    "\n",
    "$$\n",
    "\\Large \\sigma(x_i) = \\cfrac{e^{x_i}}{\\sum_k^K{e^{x_k}}}\n",
    "$$\n",
    "\n",
    "What this does is squish each input $x_i$ between 0 and 1 and normalizes the values to give you a proper probability distribution where the probabilites sum up to one.\n",
    "\n",
    "> **Exercise:** Implement a function `softmax` that performs the softmax calculation and returns probability distributions for each example in the batch. Note that you'll need to pay attention to the shapes when doing this. If you have a tensor `a` with shape `(64, 10)` and a tensor `b` with shape `(64,)`, doing `a/b` will give you an error because PyTorch will try to do the division across the columns (called broadcasting) but you'll get a size mismatch. The way to think about this is for each of the 64 examples, you only want to divide by one value, the sum in the denominator. So you need `b` to have a shape of `(64, 1)`. This way PyTorch will divide the 10 values in each row of `a` by the one value in each row of `b`. Pay attention to how you take the sum as well. You'll need to define the `dim` keyword in `torch.sum`. Setting `dim=0` takes the sum across the rows while `dim=1` takes the sum across the columns."
   ]
  },
  {
   "cell_type": "code",
   "execution_count": 13,
   "metadata": {},
   "outputs": [
    {
     "name": "stdout",
     "output_type": "stream",
     "text": [
      "torch.Size([64, 10])\n",
      "tensor([1.0000, 1.0000, 1.0000, 1.0000, 1.0000, 1.0000, 1.0000, 1.0000, 1.0000,\n",
      "        1.0000, 1.0000, 1.0000, 1.0000, 1.0000, 1.0000, 1.0000, 1.0000, 1.0000,\n",
      "        1.0000, 1.0000, 1.0000, 1.0000, 1.0000, 1.0000, 1.0000, 1.0000, 1.0000,\n",
      "        1.0000, 1.0000, 1.0000, 1.0000, 1.0000, 1.0000, 1.0000, 1.0000, 1.0000,\n",
      "        1.0000, 1.0000, 1.0000, 1.0000, 1.0000, 1.0000, 1.0000, 1.0000, 1.0000,\n",
      "        1.0000, 1.0000, 1.0000, 1.0000, 1.0000, 1.0000, 1.0000, 1.0000, 1.0000,\n",
      "        1.0000, 1.0000, 1.0000, 1.0000, 1.0000, 1.0000, 1.0000, 1.0000, 1.0000,\n",
      "        1.0000])\n"
     ]
    }
   ],
   "source": [
    "def softmax(x):\n",
    "    ## TODONE: Implement the softmax function here\n",
    "    return np.exp(x)/torch.sum(np.exp(x), dim=1, keepdim=True)\n",
    "\n",
    "# Here, out should be the output of the network in the previous excercise with shape (64,10)\n",
    "probabilities = softmax(out)\n",
    "\n",
    "# Does it have the right shape? Should be (64, 10)\n",
    "print(probabilities.shape)\n",
    "# Does it sum to 1?\n",
    "print(probabilities.sum(dim=1))"
   ]
  },
  {
   "cell_type": "markdown",
   "metadata": {},
   "source": [
    "## Building networks with PyTorch\n",
    "\n",
    "PyTorch provides a module `nn` that makes building networks much simpler. Here I'll show you how to build the same one as above with 784 inputs, 256 hidden units, 10 output units and a softmax output."
   ]
  },
  {
   "cell_type": "code",
   "execution_count": 14,
   "metadata": {},
   "outputs": [],
   "source": [
    "from torch import nn"
   ]
  },
  {
   "cell_type": "code",
   "execution_count": 15,
   "metadata": {},
   "outputs": [],
   "source": [
    "class Network(nn.Module):\n",
    "    def __init__(self):\n",
    "        super().__init__()\n",
    "        \n",
    "        # Inputs to hidden layer linear transformation\n",
    "        self.hidden = nn.Linear(784, 256)\n",
    "        # Output layer, 10 units - one for each digit\n",
    "        self.output = nn.Linear(256, 10)\n",
    "        \n",
    "        # Define sigmoid activation and softmax output \n",
    "        self.sigmoid = nn.Sigmoid()\n",
    "        self.softmax = nn.Softmax(dim=1)\n",
    "        \n",
    "    def forward(self, x):\n",
    "        # Pass the input tensor through each of our operations\n",
    "        x = self.hidden(x)\n",
    "        x = self.sigmoid(x)\n",
    "        x = self.output(x)\n",
    "        x = self.softmax(x)\n",
    "        \n",
    "        return x"
   ]
  },
  {
   "cell_type": "markdown",
   "metadata": {},
   "source": [
    "Let's go through this bit by bit.\n",
    "\n",
    "```python\n",
    "class Network(nn.Module):\n",
    "```\n",
    "\n",
    "Here we're inheriting from `nn.Module`. Combined with `super().__init__()` this creates a class that tracks the architecture and provides a lot of useful methods and attributes. It is mandatory to inherit from `nn.Module` when you're creating a class for your network. The name of the class itself can be anything.\n",
    "\n",
    "```python\n",
    "self.hidden = nn.Linear(784, 256)\n",
    "```\n",
    "\n",
    "This line creates a module for a linear transformation, $x\\mathbf{W} + b$, with 784 inputs and 256 outputs and assigns it to `self.hidden`. The module automatically creates the weight and bias tensors which we'll use in the `forward` method. You can access the weight and bias tensors once the network once it's create at `net.hidden.weight` and `net.hidden.bias`.\n",
    "\n",
    "```python\n",
    "self.output = nn.Linear(256, 10)\n",
    "```\n",
    "\n",
    "Similarly, this creates another linear transformation with 256 inputs and 10 outputs.\n",
    "\n",
    "```python\n",
    "self.sigmoid = nn.Sigmoid()\n",
    "self.softmax = nn.Softmax(dim=1)\n",
    "```\n",
    "\n",
    "Here I defined operations for the sigmoid activation and softmax output. Setting `dim=1` in `nn.Softmax(dim=1)` calculates softmax across the columns.\n",
    "\n",
    "```python\n",
    "def forward(self, x):\n",
    "```\n",
    "\n",
    "PyTorch networks created with `nn.Module` must have a `forward` method defined. It takes in a tensor `x` and passes it through the operations you defined in the `__init__` method.\n",
    "\n",
    "```python\n",
    "x = self.hidden(x)\n",
    "x = self.sigmoid(x)\n",
    "x = self.output(x)\n",
    "x = self.softmax(x)\n",
    "```\n",
    "\n",
    "Here the input tensor `x` is passed through each operation a reassigned to `x`. We can see that the input tensor goes through the hidden layer, then a sigmoid function, then the output layer, and finally the softmax function. It doesn't matter what you name the variables here, as long as the inputs and outputs of the operations match the network architecture you want to build. The order in which you define things in the `__init__` method doesn't matter, but you'll need to sequence the operations correctly in the `forward` method.\n",
    "\n",
    "Now we can create a `Network` object."
   ]
  },
  {
   "cell_type": "code",
   "execution_count": 16,
   "metadata": {},
   "outputs": [
    {
     "data": {
      "text/plain": [
       "Network(\n",
       "  (hidden): Linear(in_features=784, out_features=256, bias=True)\n",
       "  (output): Linear(in_features=256, out_features=10, bias=True)\n",
       "  (sigmoid): Sigmoid()\n",
       "  (softmax): Softmax()\n",
       ")"
      ]
     },
     "execution_count": 16,
     "metadata": {},
     "output_type": "execute_result"
    }
   ],
   "source": [
    "# Create the network and look at it's text representation\n",
    "model = Network()\n",
    "model"
   ]
  },
  {
   "cell_type": "markdown",
   "metadata": {},
   "source": [
    "You can define the network somewhat more concisely and clearly using the `torch.nn.functional` module. This is the most common way you'll see networks defined as many operations are simple element-wise functions. We normally import this module as `F`, `import torch.nn.functional as F`."
   ]
  },
  {
   "cell_type": "code",
   "execution_count": 17,
   "metadata": {},
   "outputs": [],
   "source": [
    "import torch.nn.functional as F\n",
    "\n",
    "class Network(nn.Module):\n",
    "    def __init__(self):\n",
    "        super().__init__()\n",
    "        # Inputs to hidden layer linear transformation\n",
    "        self.hidden = nn.Linear(784, 256)\n",
    "        # Output layer, 10 units - one for each digit\n",
    "        self.output = nn.Linear(256, 10)\n",
    "        \n",
    "    def forward(self, x):\n",
    "        # Hidden layer with sigmoid activation\n",
    "        x = F.sigmoid(self.hidden(x))\n",
    "        # Output layer with softmax activation\n",
    "        x = F.softmax(self.output(x), dim=1)\n",
    "        \n",
    "        return x"
   ]
  },
  {
   "cell_type": "code",
   "execution_count": 18,
   "metadata": {},
   "outputs": [
    {
     "data": {
      "text/plain": [
       "Network(\n",
       "  (hidden): Linear(in_features=784, out_features=256, bias=True)\n",
       "  (output): Linear(in_features=256, out_features=10, bias=True)\n",
       ")"
      ]
     },
     "execution_count": 18,
     "metadata": {},
     "output_type": "execute_result"
    }
   ],
   "source": [
    "# Create the network and compare it's text representation\n",
    "model = Network()\n",
    "model"
   ]
  },
  {
   "cell_type": "markdown",
   "metadata": {},
   "source": [
    "### Activation functions\n",
    "\n",
    "So far we've only been looking at the softmax activation, but in general any function can be used as an activation function. The only requirement is that for a network to approximate a non-linear function, the activation functions must be non-linear. Here are a few more examples of common activation functions: Tanh (hyperbolic tangent), and ReLU (rectified linear unit).\n",
    "\n",
    "<img src=\"assets/activation.png\" width=700px>\n",
    "\n",
    "In practice, the ReLU function is used almost exclusively as the activation function for hidden layers."
   ]
  },
  {
   "cell_type": "markdown",
   "metadata": {},
   "source": [
    "### Your Turn to Build a Network\n",
    "\n",
    "<img src=\"assets/mlp_mnist.png\" width=600px>\n",
    "\n",
    "> **Exercise:** Create a network with 784 input units, a hidden layer with 128 units and a ReLU activation, then a hidden layer with 64 units and a ReLU activation, and finally an output layer with a softmax activation as shown above. You can use a ReLU activation with the `nn.ReLU` module or `F.relu` function."
   ]
  },
  {
   "cell_type": "code",
   "execution_count": 19,
   "metadata": {
    "scrolled": true
   },
   "outputs": [],
   "source": [
    "## Your solution here\n",
    "class DeeperNetwork(nn.Module):\n",
    "    def __init__(self):\n",
    "        super().__init__()\n",
    "        # Inputs to hidden layer linear transformation\n",
    "        self.hidden1 = nn.Linear(784, 128)\n",
    "        self.hidden2 = nn.Linear(128, 64)\n",
    "        # Output layer, 10 units - one for each digit\n",
    "        self.output = nn.Linear(64, 10)\n",
    "        \n",
    "    def forward(self, x):\n",
    "        # Hidden layer with ReLU activation\n",
    "        x = F.relu(self.hidden1(x))\n",
    "        x = F.relu(self.hidden2(x))\n",
    "        # Output layer with softmax activation\n",
    "        x = F.softmax(self.output(x), dim=1)\n",
    "        \n",
    "        return x"
   ]
  },
  {
   "cell_type": "code",
   "execution_count": 20,
   "metadata": {},
   "outputs": [
    {
     "data": {
      "text/plain": [
       "DeeperNetwork(\n",
       "  (hidden1): Linear(in_features=784, out_features=128, bias=True)\n",
       "  (hidden2): Linear(in_features=128, out_features=64, bias=True)\n",
       "  (output): Linear(in_features=64, out_features=10, bias=True)\n",
       ")"
      ]
     },
     "execution_count": 20,
     "metadata": {},
     "output_type": "execute_result"
    }
   ],
   "source": [
    "# Create the network and compare it's text representation\n",
    "model = DeeperNetwork()\n",
    "model"
   ]
  },
  {
   "cell_type": "markdown",
   "metadata": {},
   "source": [
    "### Initializing weights and biases\n",
    "\n",
    "The weights and such are automatically initialized for you, but it's possible to customize how they are initialized. The weights and biases are tensors attached to the layer you defined, you can get them with `model.fc1.weight` for instance."
   ]
  },
  {
   "cell_type": "code",
   "execution_count": 21,
   "metadata": {},
   "outputs": [
    {
     "name": "stdout",
     "output_type": "stream",
     "text": [
      "Parameter containing:\n",
      "tensor([[ 0.0037, -0.0326, -0.0192,  ..., -0.0349,  0.0259,  0.0161],\n",
      "        [-0.0220, -0.0092,  0.0267,  ..., -0.0161,  0.0141, -0.0044],\n",
      "        [-0.0064, -0.0073, -0.0031,  ...,  0.0184, -0.0096,  0.0041],\n",
      "        ...,\n",
      "        [ 0.0060,  0.0094, -0.0092,  ..., -0.0041,  0.0043,  0.0321],\n",
      "        [ 0.0072,  0.0201, -0.0352,  ...,  0.0153,  0.0339, -0.0236],\n",
      "        [-0.0058, -0.0033,  0.0309,  ...,  0.0168,  0.0218, -0.0037]],\n",
      "       requires_grad=True)\n",
      "Parameter containing:\n",
      "tensor([-3.5140e-02, -1.8390e-02,  6.8961e-03, -6.9769e-03,  2.4835e-02,\n",
      "         1.9385e-02, -3.0230e-02, -1.4221e-02,  3.2151e-02,  3.1239e-02,\n",
      "        -1.7553e-02,  3.0973e-02,  5.0422e-03,  2.2563e-02, -1.0080e-02,\n",
      "        -1.6343e-02,  2.3792e-02,  2.4730e-02, -3.9857e-03,  2.1657e-03,\n",
      "        -2.8466e-02, -8.3228e-03,  2.9120e-02,  2.1403e-02, -2.9136e-02,\n",
      "         1.0794e-02,  3.0851e-02, -2.9646e-02, -1.3545e-03,  1.0354e-02,\n",
      "        -2.0239e-02, -3.4332e-03,  4.5024e-03,  1.9264e-02, -3.2477e-02,\n",
      "         1.6491e-02, -1.0096e-02, -2.6991e-02,  2.9006e-02,  3.0890e-02,\n",
      "         1.7626e-02, -2.8384e-02,  1.6996e-02,  3.1699e-02, -3.2983e-02,\n",
      "         7.3245e-03, -1.4970e-03,  1.5976e-02,  2.4653e-02, -3.3400e-02,\n",
      "        -1.5479e-02, -1.5885e-02,  1.4428e-02, -1.8460e-02,  2.3303e-02,\n",
      "        -1.1370e-02, -3.4816e-02,  3.2627e-02, -5.0322e-03,  2.2719e-02,\n",
      "        -3.2456e-02, -3.0452e-02,  8.7143e-03, -3.8612e-03,  2.3204e-02,\n",
      "        -2.4669e-02,  1.6124e-02,  2.9019e-02,  3.1455e-02,  2.0461e-02,\n",
      "         3.4583e-03,  3.2123e-02,  3.0809e-02, -1.2939e-02,  3.1171e-02,\n",
      "         2.5635e-02, -7.0687e-03,  9.4935e-03, -5.2699e-03,  2.8339e-02,\n",
      "         1.6139e-02,  1.4165e-02,  2.2754e-02,  1.1160e-03, -7.7923e-03,\n",
      "        -2.5718e-02, -3.2703e-02,  1.4116e-02,  2.7836e-02,  1.9810e-02,\n",
      "        -7.4462e-03, -9.3377e-03,  1.5423e-02, -1.9070e-02, -2.3849e-02,\n",
      "         2.6981e-02,  3.0851e-02, -1.5464e-02,  2.0384e-02, -1.9958e-03,\n",
      "         8.9962e-03,  2.3228e-03,  1.3813e-02, -3.1365e-02, -5.4546e-04,\n",
      "         1.5626e-02,  2.5123e-02, -2.3208e-02, -1.6894e-05,  1.2816e-02,\n",
      "        -1.2746e-02, -8.8908e-03, -3.3100e-02, -1.8990e-02, -2.8890e-03,\n",
      "        -1.9442e-02,  2.8550e-02,  7.8770e-03, -7.5093e-03, -2.4321e-02,\n",
      "         1.1139e-02, -1.7582e-02,  1.1038e-02, -1.7589e-02, -5.9483e-03,\n",
      "        -1.3481e-02, -8.0589e-03, -1.1273e-02], requires_grad=True)\n"
     ]
    }
   ],
   "source": [
    "print(model.hidden1.weight)\n",
    "print(model.hidden1.bias)"
   ]
  },
  {
   "cell_type": "markdown",
   "metadata": {},
   "source": [
    "For custom initialization, we want to modify these tensors in place. These are actually autograd *Variables*, so we need to get back the actual tensors with `model.fc1.weight.data`. Once we have the tensors, we can fill them with zeros (for biases) or random normal values."
   ]
  },
  {
   "cell_type": "code",
   "execution_count": 22,
   "metadata": {},
   "outputs": [
    {
     "data": {
      "text/plain": [
       "tensor([0., 0., 0., 0., 0., 0., 0., 0., 0., 0., 0., 0., 0., 0., 0., 0., 0., 0., 0., 0., 0., 0., 0., 0.,\n",
       "        0., 0., 0., 0., 0., 0., 0., 0., 0., 0., 0., 0., 0., 0., 0., 0., 0., 0., 0., 0., 0., 0., 0., 0.,\n",
       "        0., 0., 0., 0., 0., 0., 0., 0., 0., 0., 0., 0., 0., 0., 0., 0., 0., 0., 0., 0., 0., 0., 0., 0.,\n",
       "        0., 0., 0., 0., 0., 0., 0., 0., 0., 0., 0., 0., 0., 0., 0., 0., 0., 0., 0., 0., 0., 0., 0., 0.,\n",
       "        0., 0., 0., 0., 0., 0., 0., 0., 0., 0., 0., 0., 0., 0., 0., 0., 0., 0., 0., 0., 0., 0., 0., 0.,\n",
       "        0., 0., 0., 0., 0., 0., 0., 0.])"
      ]
     },
     "execution_count": 22,
     "metadata": {},
     "output_type": "execute_result"
    }
   ],
   "source": [
    "# Set biases to all zeros\n",
    "model.hidden1.bias.data.fill_(0)"
   ]
  },
  {
   "cell_type": "code",
   "execution_count": 23,
   "metadata": {},
   "outputs": [
    {
     "data": {
      "text/plain": [
       "tensor([[-0.0022,  0.0026,  0.0047,  ...,  0.0112,  0.0057, -0.0001],\n",
       "        [-0.0067, -0.0065,  0.0064,  ...,  0.0132, -0.0033,  0.0090],\n",
       "        [-0.0194,  0.0024, -0.0147,  ...,  0.0075,  0.0011, -0.0211],\n",
       "        ...,\n",
       "        [-0.0026, -0.0059,  0.0056,  ..., -0.0084,  0.0163, -0.0066],\n",
       "        [-0.0050, -0.0058,  0.0040,  ..., -0.0093,  0.0186,  0.0179],\n",
       "        [-0.0097, -0.0164, -0.0229,  ...,  0.0060, -0.0079,  0.0098]])"
      ]
     },
     "execution_count": 23,
     "metadata": {},
     "output_type": "execute_result"
    }
   ],
   "source": [
    "# sample from random normal with standard dev = 0.01\n",
    "model.hidden1.weight.data.normal_(std=0.01)"
   ]
  },
  {
   "cell_type": "markdown",
   "metadata": {},
   "source": [
    "### Forward pass\n",
    "\n",
    "Now that we have a network, let's see what happens when we pass in an image."
   ]
  },
  {
   "cell_type": "code",
   "execution_count": 24,
   "metadata": {},
   "outputs": [
    {
     "data": {
      "image/png": "[encoded data removed]",
      "text/plain": [
       "<Figure size 432x648 with 2 Axes>"
      ]
     },
     "metadata": {
      "image/png": {
       "height": 224,
       "width": 423
      }
     },
     "output_type": "display_data"
    }
   ],
   "source": [
    "# Grab some data \n",
    "dataiter = iter(trainloader)\n",
    "images, labels = dataiter.next()\n",
    "\n",
    "# Resize images into a 1D vector, new shape is (batch size, color channels, image pixels) \n",
    "images.resize_(64, 1, 784)\n",
    "# or images.resize_(images.shape[0], 1, 784) to automatically get batch size\n",
    "\n",
    "# Forward pass through the network\n",
    "img_idx = 0\n",
    "ps = model.forward(images[img_idx,:])\n",
    "\n",
    "img = images[img_idx]\n",
    "helper.view_classify(img.view(1, 28, 28), ps)"
   ]
  },
  {
   "cell_type": "markdown",
   "metadata": {},
   "source": [
    "As you can see above, our network has basically no idea what this digit is. It's because we haven't trained it yet, all the weights are random!\n",
    "\n",
    "### Using `nn.Sequential`\n",
    "\n",
    "PyTorch provides a convenient way to build networks like this where a tensor is passed sequentially through operations, `nn.Sequential` ([documentation](https://pytorch.org/docs/master/nn.html#torch.nn.Sequential)). Using this to build the equivalent network:"
   ]
  },
  {
   "cell_type": "code",
   "execution_count": 25,
   "metadata": {},
   "outputs": [
    {
     "name": "stdout",
     "output_type": "stream",
     "text": [
      "Sequential(\n",
      "  (0): Linear(in_features=784, out_features=128, bias=True)\n",
      "  (1): ReLU()\n",
      "  (2): Linear(in_features=128, out_features=64, bias=True)\n",
      "  (3): ReLU()\n",
      "  (4): Linear(in_features=64, out_features=10, bias=True)\n",
      "  (5): Softmax()\n",
      ")\n"
     ]
    },
    {
     "data": {
      "image/png": "[encoded data removed]",
      "text/plain": [
       "<Figure size 432x648 with 2 Axes>"
      ]
     },
     "metadata": {
      "image/png": {
       "height": 224,
       "width": 423
      }
     },
     "output_type": "display_data"
    }
   ],
   "source": [
    "# Hyperparameters for our network\n",
    "input_size = 784\n",
    "hidden_sizes = [128, 64]\n",
    "output_size = 10\n",
    "\n",
    "# Build a feed-forward network\n",
    "model = nn.Sequential(nn.Linear(input_size, hidden_sizes[0]),\n",
    "                      nn.ReLU(),\n",
    "                      nn.Linear(hidden_sizes[0], hidden_sizes[1]),\n",
    "                      nn.ReLU(),\n",
    "                      nn.Linear(hidden_sizes[1], output_size),\n",
    "                      nn.Softmax(dim=1))\n",
    "print(model)\n",
    "\n",
    "# Forward pass through the network and display output\n",
    "images, labels = next(iter(trainloader))\n",
    "images.resize_(images.shape[0], 1, 784)\n",
    "ps = model.forward(images[0,:])\n",
    "helper.view_classify(images[0].view(1, 28, 28), ps)"
   ]
  },
  {
   "cell_type": "markdown",
   "metadata": {},
   "source": [
    "The operations are availble by passing in the appropriate index. For example, if you want to get first Linear operation and look at the weights, you'd use `model[0]`."
   ]
  },
  {
   "cell_type": "code",
   "execution_count": 26,
   "metadata": {},
   "outputs": [
    {
     "name": "stdout",
     "output_type": "stream",
     "text": [
      "Linear(in_features=784, out_features=128, bias=True)\n"
     ]
    },
    {
     "data": {
      "text/plain": [
       "Parameter containing:\n",
       "tensor([[-0.0199,  0.0159, -0.0157,  ..., -0.0134,  0.0120, -0.0318],\n",
       "        [ 0.0270, -0.0178, -0.0027,  ...,  0.0348,  0.0323,  0.0154],\n",
       "        [-0.0022, -0.0096, -0.0005,  ..., -0.0218,  0.0164,  0.0182],\n",
       "        ...,\n",
       "        [-0.0042,  0.0164, -0.0205,  ..., -0.0094, -0.0223, -0.0040],\n",
       "        [-0.0019, -0.0185, -0.0098,  ...,  0.0123, -0.0048,  0.0114],\n",
       "        [-0.0111, -0.0303,  0.0279,  ..., -0.0061, -0.0344, -0.0068]],\n",
       "       requires_grad=True)"
      ]
     },
     "execution_count": 26,
     "metadata": {},
     "output_type": "execute_result"
    }
   ],
   "source": [
    "print(model[0])\n",
    "model[0].weight"
   ]
  },
  {
   "cell_type": "markdown",
   "metadata": {},
   "source": [
    "You can also pass in an `OrderedDict` to name the individual layers and operations, instead of using incremental integers. Note that dictionary keys must be unique, so _each operation must have a different name_."
   ]
  },
  {
   "cell_type": "code",
   "execution_count": 27,
   "metadata": {},
   "outputs": [
    {
     "data": {
      "text/plain": [
       "Sequential(\n",
       "  (fc1): Linear(in_features=784, out_features=128, bias=True)\n",
       "  (relu1): ReLU()\n",
       "  (fc2): Linear(in_features=128, out_features=64, bias=True)\n",
       "  (relu2): ReLU()\n",
       "  (output): Linear(in_features=64, out_features=10, bias=True)\n",
       "  (softmax): Softmax()\n",
       ")"
      ]
     },
     "execution_count": 27,
     "metadata": {},
     "output_type": "execute_result"
    }
   ],
   "source": [
    "from collections import OrderedDict\n",
    "model = nn.Sequential(OrderedDict([\n",
    "                      ('fc1', nn.Linear(input_size, hidden_sizes[0])),\n",
    "                      ('relu1', nn.ReLU()),\n",
    "                      ('fc2', nn.Linear(hidden_sizes[0], hidden_sizes[1])),\n",
    "                      ('relu2', nn.ReLU()),\n",
    "                      ('output', nn.Linear(hidden_sizes[1], output_size)),\n",
    "                      ('softmax', nn.Softmax(dim=1))]))\n",
    "model"
   ]
  },
  {
   "cell_type": "markdown",
   "metadata": {},
   "source": [
    "Now you can access layers either by integer or the name"
   ]
  },
  {
   "cell_type": "code",
   "execution_count": 28,
   "metadata": {},
   "outputs": [
    {
     "name": "stdout",
     "output_type": "stream",
     "text": [
      "Linear(in_features=784, out_features=128, bias=True)\n",
      "Linear(in_features=784, out_features=128, bias=True)\n"
     ]
    }
   ],
   "source": [
    "print(model[0])\n",
    "print(model.fc1)"
   ]
  },
  {
   "cell_type": "markdown",
   "metadata": {},
   "source": [
    "In the next notebook, we'll see how we can train a neural network to accuractly predict the numbers appearing in the MNIST images."
   ]
  }
 ],
 "metadata": {
  "kernelspec": {
   "display_name": "Python [default]",
   "language": "python",
   "name": "python3"
  },
  "language_info": {
   "codemirror_mode": {
    "name": "ipython",
    "version": 3
   },
   "file_extension": ".py",
   "mimetype": "text/x-python",
   "name": "python",
   "nbconvert_exporter": "python",
   "pygments_lexer": "ipython3",
   "version": "3.6.5"
  }
 },
 "nbformat": 4,
 "nbformat_minor": 2
}
